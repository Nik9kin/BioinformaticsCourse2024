{
 "cells": [
  {
   "cell_type": "code",
   "execution_count": 1,
   "id": "2406b336-1e78-434b-96ea-669c6678e14a",
   "metadata": {},
   "outputs": [],
   "source": [
    "import numpy as np\n",
    "\n",
    "from Bio import SeqIO\n",
    "\n",
    "from illumina import run"
   ]
  },
  {
   "cell_type": "code",
   "execution_count": 2,
   "id": "3d195662-b471-4fd6-8a53-03d77382c514",
   "metadata": {},
   "outputs": [],
   "source": [
    "rng = np.random.default_rng(2024)"
   ]
  },
  {
   "cell_type": "markdown",
   "id": "68b45da4-02a1-4e3f-a8a9-4ada04ab0ca3",
   "metadata": {},
   "source": [
    "# 1. Симуляция секвенирования"
   ]
  },
  {
   "cell_type": "code",
   "execution_count": 3,
   "id": "8279c9de-66f7-4433-ad30-e71bb78797ee",
   "metadata": {},
   "outputs": [],
   "source": [
    "genome = ''.join(rng.choice(list(\"ATGC\"), size=50000))\n",
    "with open(\"genome.fasta\", 'w') as f_out:\n",
    "    f_out.write(\">genome\\n\")\n",
    "    f_out.write(genome)\n",
    "    f_out.write(\"\\n\")"
   ]
  },
  {
   "cell_type": "code",
   "execution_count": 4,
   "id": "f044f647-dd6d-4c4e-94fd-0c0180656051",
   "metadata": {},
   "outputs": [
    {
     "name": "stderr",
     "output_type": "stream",
     "text": [
      "100%|█████████████████████████████████████████████████████████████████████████████████████████████████████████████████████████| 50000/50000 [04:12<00:00, 197.86it/s]\n"
     ]
    }
   ],
   "source": [
    "ground_truth, reads = run(genome, n_reads=50000, out_filename=\"reads\", rng=rng)"
   ]
  },
  {
   "cell_type": "code",
   "execution_count": 5,
   "id": "8b00d46c-9a71-4e13-8324-938e92279561",
   "metadata": {},
   "outputs": [
    {
     "name": "stdout",
     "output_type": "stream",
     "text": [
      "null\n",
      "Started analysis of reads.fastq\n",
      "Approx 5% complete for reads.fastq\n",
      "Approx 10% complete for reads.fastq\n",
      "Approx 15% complete for reads.fastq\n",
      "Approx 20% complete for reads.fastq\n",
      "Approx 25% complete for reads.fastq\n",
      "Approx 30% complete for reads.fastq\n",
      "Approx 35% complete for reads.fastq\n",
      "Approx 40% complete for reads.fastq\n",
      "Approx 45% complete for reads.fastq\n",
      "Approx 50% complete for reads.fastq\n",
      "Approx 55% complete for reads.fastq\n",
      "Approx 60% complete for reads.fastq\n",
      "Approx 65% complete for reads.fastq\n",
      "Approx 70% complete for reads.fastq\n",
      "Approx 75% complete for reads.fastq\n",
      "Approx 80% complete for reads.fastq\n",
      "Approx 85% complete for reads.fastq\n",
      "Approx 90% complete for reads.fastq\n",
      "Approx 95% complete for reads.fastq\n",
      "Approx 100% complete for reads.fastq\n",
      "Analysis complete for reads.fastq\n"
     ]
    }
   ],
   "source": [
    "! fastqc reads.fastq"
   ]
  },
  {
   "cell_type": "markdown",
   "id": "6e9aa003-f052-43a1-8163-d3b9c109325e",
   "metadata": {},
   "source": [
    "# 2. Удаление ошибок (Trimmomatic)"
   ]
  },
  {
   "cell_type": "code",
   "execution_count": 6,
   "id": "417505d1-b180-41e6-bdcf-be8d31e941e6",
   "metadata": {},
   "outputs": [
    {
     "name": "stdout",
     "output_type": "stream",
     "text": [
      "TrimmomaticSE: Started with arguments:\n",
      " -phred33 reads.fastq reads_trimmed.fastq ILLUMINACLIP:TruSeq3-SE:2:30:10 LEADING:3 TRAILING:3 SLIDINGWINDOW:4:15 MINLEN:36\n",
      "Automatically using 1 threads\n",
      "java.io.FileNotFoundException: /home/nikitos/Study/5th year/2nd_sem/BioinfAlgorithms/BioinformaticsCourse2024/homework/2_1/TruSeq3-SE (No such file or directory)\n",
      "\tat java.base/java.io.FileInputStream.open0(Native Method)\n",
      "\tat java.base/java.io.FileInputStream.open(FileInputStream.java:219)\n",
      "\tat java.base/java.io.FileInputStream.<init>(FileInputStream.java:157)\n",
      "\tat org.usadellab.trimmomatic.fasta.FastaParser.parse(FastaParser.java:54)\n",
      "\tat org.usadellab.trimmomatic.trim.IlluminaClippingTrimmer.loadSequences(IlluminaClippingTrimmer.java:110)\n",
      "\tat org.usadellab.trimmomatic.trim.IlluminaClippingTrimmer.makeIlluminaClippingTrimmer(IlluminaClippingTrimmer.java:71)\n",
      "\tat org.usadellab.trimmomatic.trim.TrimmerFactory.makeTrimmer(TrimmerFactory.java:32)\n",
      "\tat org.usadellab.trimmomatic.Trimmomatic.createTrimmers(Trimmomatic.java:59)\n",
      "\tat org.usadellab.trimmomatic.TrimmomaticSE.run(TrimmomaticSE.java:318)\n",
      "\tat org.usadellab.trimmomatic.Trimmomatic.main(Trimmomatic.java:85)\n",
      "Input Reads: 50000 Surviving: 48648 (97.30%) Dropped: 1352 (2.70%)\n",
      "TrimmomaticSE: Completed successfully\n"
     ]
    }
   ],
   "source": [
    "! trimmomatic SE -phred33 reads.fastq reads_trimmed.fastq ILLUMINACLIP:TruSeq3-SE:2:30:10 LEADING:3 TRAILING:3 SLIDINGWINDOW:4:15 MINLEN:36"
   ]
  },
  {
   "cell_type": "code",
   "execution_count": 7,
   "id": "70ca23b3-3974-422c-9c69-698d35cccdce",
   "metadata": {},
   "outputs": [
    {
     "name": "stdout",
     "output_type": "stream",
     "text": [
      "null\n",
      "Started analysis of reads_trimmed.fastq\n",
      "Approx 5% complete for reads_trimmed.fastq\n",
      "Approx 10% complete for reads_trimmed.fastq\n",
      "Approx 15% complete for reads_trimmed.fastq\n",
      "Approx 20% complete for reads_trimmed.fastq\n",
      "Approx 25% complete for reads_trimmed.fastq\n",
      "Approx 30% complete for reads_trimmed.fastq\n",
      "Approx 35% complete for reads_trimmed.fastq\n",
      "Approx 40% complete for reads_trimmed.fastq\n",
      "Approx 45% complete for reads_trimmed.fastq\n",
      "Approx 50% complete for reads_trimmed.fastq\n",
      "Approx 55% complete for reads_trimmed.fastq\n",
      "Approx 60% complete for reads_trimmed.fastq\n",
      "Approx 65% complete for reads_trimmed.fastq\n",
      "Approx 70% complete for reads_trimmed.fastq\n",
      "Approx 75% complete for reads_trimmed.fastq\n",
      "Approx 80% complete for reads_trimmed.fastq\n",
      "Approx 85% complete for reads_trimmed.fastq\n",
      "Approx 90% complete for reads_trimmed.fastq\n",
      "Approx 95% complete for reads_trimmed.fastq\n",
      "Analysis complete for reads_trimmed.fastq\n"
     ]
    }
   ],
   "source": [
    "! fastqc reads_trimmed.fastq"
   ]
  },
  {
   "cell_type": "code",
   "execution_count": 8,
   "id": "dffdf854-0e45-4972-87ab-68943122a841",
   "metadata": {},
   "outputs": [],
   "source": [
    "reads_trimmed = {int(rec.id): rec.seq for rec in SeqIO.parse(\"reads_trimmed.fastq\", \"fastq\")}"
   ]
  },
  {
   "cell_type": "code",
   "execution_count": 9,
   "id": "bd78d193-35d6-443f-9c9a-a30fb56295fc",
   "metadata": {},
   "outputs": [],
   "source": [
    "trimmomatic_stats = {\n",
    "    \"deleted_reads_total\": 0,\n",
    "    \"deleted_reads_with_errors\": 0,\n",
    "    \"deleted_reads_no_errors\": 0,\n",
    "    \"errors_remove\": 0,\n",
    "    \"read_with_errors_left\": 0,\n",
    "}\n",
    "\n",
    "for i in range(50_000):\n",
    "    read_seq = reads[i][1]\n",
    "    _, start, read_length = ground_truth[i]\n",
    "    if i not in reads_trimmed:\n",
    "        trimmomatic_stats[\"deleted_reads_total\"] += 1\n",
    "        if genome[start: start + read_length] == read_seq:\n",
    "            trimmomatic_stats[\"deleted_reads_no_errors\"] += 1\n",
    "        else:\n",
    "            trimmomatic_stats[\"deleted_reads_with_errors\"] += 1\n",
    "    else:\n",
    "        read_seq_trimmed = str(reads_trimmed[i])\n",
    "        shift = read_seq.find(read_seq_trimmed)\n",
    "        if genome[start + shift: start + shift + len(read_seq_trimmed)] == read_seq_trimmed:\n",
    "            trimmomatic_stats[\"errors_remove\"] += 1\n",
    "        else:\n",
    "            trimmomatic_stats[\"read_with_errors_left\"] += 1"
   ]
  },
  {
   "cell_type": "code",
   "execution_count": 10,
   "id": "ec592de9-26db-41b3-9af3-415220669a93",
   "metadata": {},
   "outputs": [
    {
     "name": "stdout",
     "output_type": "stream",
     "text": [
      "deleted_reads_total : 1352\n",
      "deleted_reads_with_errors : 1352\n",
      "deleted_reads_no_errors : 0\n",
      "errors_remove : 84\n",
      "read_with_errors_left : 48564\n"
     ]
    }
   ],
   "source": [
    "for k, v in trimmomatic_stats.items():\n",
    "    print(k, ':', v)"
   ]
  },
  {
   "cell_type": "markdown",
   "id": "37f53b21-0892-4319-9d94-01449f186962",
   "metadata": {},
   "source": [
    "# 3. Коррекция ошибок"
   ]
  },
  {
   "cell_type": "code",
   "execution_count": 11,
   "id": "64075afb-3b14-4873-8438-a1ce3dbe9e52",
   "metadata": {},
   "outputs": [
    {
     "name": "stdout",
     "output_type": "stream",
     "text": [
      "Usage: ./lighter [OPTIONS]\n",
      "OPTIONS:\n",
      "Required parameters:\n",
      "\t-r seq_file: seq_file is the path to the sequence file. Can use multiple -r to specifiy multiple sequence files\n",
      "\t             The file can be fasta and fastq, and can be gzip'ed with extension *.gz.\n",
      "\t             When the input file is *.gz, the corresponding output file will also be gzip'ed.\n",
      "\t-k kmer_length genome_size alpha: (see README for information on setting alpha)\n",
      "\t\t\t\t\tor\n",
      "\t-K kmer_length genom_size: in this case, the genome size should be relative accurate.\n",
      "Other parameters:\n",
      "\t-od output_file_directory: (default: ./)\n",
      "\t-t num_of_threads: number of threads to use (default: 1)\n",
      "\t-maxcor INT: the maximum number of corrections within a 20bp window (default: 4)\n",
      "\t-trim: allow trimming (default: false)\n",
      "\t-discard: discard unfixable reads. Will LOSE paired-end matching when discarding (default: false)\n",
      "\t-noQual: ignore the quality socre (default: false)\n",
      "\t-newQual ascii_quality_score: set the quality for the bases corrected to the specified score (default: not used)\n",
      "\t-saveTrustedKmers file: save the trusted kmers to specified file then stop (default: not used)\n",
      "\t-loadTrustedKmers file: directly get solid kmers from specified file (default: not used)\n",
      "\t-zlib compress_level: set the compression level(0-9) of gzip (default: 1)\n",
      "\t-h: print the help message and quit\n",
      "\t-v: print the version information and quit\n"
     ]
    }
   ],
   "source": [
    "! lighter"
   ]
  },
  {
   "cell_type": "code",
   "execution_count": 12,
   "id": "34b866d5-25b6-4e48-a1e4-6c009307b4f8",
   "metadata": {},
   "outputs": [
    {
     "name": "stdout",
     "output_type": "stream",
     "text": [
      "[2024-06-14 17:12:31] =============Start====================\n",
      "[2024-06-14 17:12:31] Scanning the input files to infer alpha(sampling rate)\n",
      "[2024-06-14 17:12:31] Average coverage is 249.524 and alpha is 0.028\n",
      "[2024-06-14 17:12:31] Bad quality threshold is \"$\"\n",
      "[2024-06-14 17:12:31] Finish sampling kmers\n",
      "[2024-06-14 17:12:31] Bloom filter A's false positive rate: 0.166457\n",
      "[2024-06-14 17:12:31] The error rate is high. Lighter adjusts -maxcor to 5 and bad quality threshold to \"%\".\n",
      "[2024-06-14 17:12:32] Finish storing trusted kmers\n",
      "[2024-06-14 17:12:32] Finish error correction\n",
      "Processed 50000 reads:\n",
      "\t3 are error-free\n",
      "\tCorrected 512017 bases(10.240954 corrections for reads with errors)\n",
      "\tTrimmed 0 reads with average trimmed bases 0.000000\n",
      "\tDiscard 0 reads\n",
      "[2024-06-14 17:12:33] =============Start====================\n",
      "[2024-06-14 17:12:33] Scanning the input files to infer alpha(sampling rate)\n",
      "[2024-06-14 17:12:33] Average coverage is 249.524 and alpha is 0.028\n",
      "[2024-06-14 17:12:33] Bad quality threshold is \"$\"\n",
      "[2024-06-14 17:12:33] Finish sampling kmers\n",
      "[2024-06-14 17:12:33] Bloom filter A's false positive rate: 0.410866\n",
      "[2024-06-14 17:12:33] The error rate is high. Lighter adjusts -maxcor to 5 and bad quality threshold to \"%\".\n",
      "[2024-06-14 17:12:33] Finish storing trusted kmers\n",
      "[2024-06-14 17:12:34] Finish error correction\n",
      "Processed 50000 reads:\n",
      "\t1 are error-free\n",
      "\tCorrected 528940 bases(10.579012 corrections for reads with errors)\n",
      "\tTrimmed 0 reads with average trimmed bases 0.000000\n",
      "\tDiscard 0 reads\n",
      "[2024-06-14 17:12:34] =============Start====================\n",
      "[2024-06-14 17:12:34] Scanning the input files to infer alpha(sampling rate)\n",
      "[2024-06-14 17:12:34] Average coverage is 249.524 and alpha is 0.028\n",
      "[2024-06-14 17:12:34] Bad quality threshold is \"$\"\n",
      "[2024-06-14 17:12:34] Finish sampling kmers\n",
      "[2024-06-14 17:12:34] Bloom filter A's false positive rate: 0.512039\n",
      "[2024-06-14 17:12:34] The error rate is high. Lighter adjusts -maxcor to 5 and bad quality threshold to \"%\".\n",
      "[2024-06-14 17:12:35] Finish storing trusted kmers\n",
      "[2024-06-14 17:12:35] Finish error correction\n",
      "Processed 50000 reads:\n",
      "\t2 are error-free\n",
      "\tCorrected 525921 bases(10.518841 corrections for reads with errors)\n",
      "\tTrimmed 0 reads with average trimmed bases 0.000000\n",
      "\tDiscard 0 reads\n",
      "[2024-06-14 17:12:36] =============Start====================\n",
      "[2024-06-14 17:12:36] Scanning the input files to infer alpha(sampling rate)\n",
      "[2024-06-14 17:12:36] Average coverage is 249.524 and alpha is 0.028\n",
      "[2024-06-14 17:12:36] Bad quality threshold is \"$\"\n",
      "[2024-06-14 17:12:36] Finish sampling kmers\n",
      "[2024-06-14 17:12:36] Bloom filter A's false positive rate: 0.576620\n",
      "[2024-06-14 17:12:36] The error rate is high. Lighter adjusts -maxcor to 5 and bad quality threshold to \"%\".\n",
      "[2024-06-14 17:12:36] Finish storing trusted kmers\n",
      "[2024-06-14 17:12:38] Finish error correction\n",
      "Processed 50000 reads:\n",
      "\t465 are error-free\n",
      "\tCorrected 332209 bases(6.706551 corrections for reads with errors)\n",
      "\tTrimmed 0 reads with average trimmed bases 0.000000\n",
      "\tDiscard 0 reads\n",
      "[2024-06-14 17:12:38] =============Start====================\n",
      "[2024-06-14 17:12:38] Scanning the input files to infer alpha(sampling rate)\n",
      "[2024-06-14 17:12:38] Average coverage is 249.524 and alpha is 0.028\n",
      "[2024-06-14 17:12:38] Bad quality threshold is \"$\"\n",
      "[2024-06-14 17:12:38] Finish sampling kmers\n",
      "[2024-06-14 17:12:38] Bloom filter A's false positive rate: 0.609424\n",
      "[2024-06-14 17:12:38] The error rate is high. Lighter adjusts -maxcor to 5 and bad quality threshold to \"%\".\n",
      "[2024-06-14 17:12:38] Finish storing trusted kmers\n",
      "[2024-06-14 17:12:41] Finish error correction\n",
      "Processed 50000 reads:\n",
      "\t4585 are error-free\n",
      "\tCorrected 103902 bases(2.287834 corrections for reads with errors)\n",
      "\tTrimmed 0 reads with average trimmed bases 0.000000\n",
      "\tDiscard 0 reads\n"
     ]
    }
   ],
   "source": [
    "k_mer_lengths = [10, 15, 20, 25, 30]\n",
    "\n",
    "for k in k_mer_lengths:\n",
    "    ! lighter -r reads.fastq -K {k} 50000 -od \"kmer{k}\""
   ]
  },
  {
   "cell_type": "code",
   "execution_count": 13,
   "id": "d4ffec5a-023a-4c91-b96a-db1310e100f8",
   "metadata": {},
   "outputs": [],
   "source": [
    "def calc_metrics(reads_cor, reads, ground_truth):\n",
    "    tp = tn = fp = fn = 0\n",
    "    miscorrection = 0\n",
    "\n",
    "    for i in range(50_000):\n",
    "        _, start, read_length = ground_truth[i]\n",
    "        for c1, c2, c3 in zip(reads_cor[i], reads[i][1], genome[start: start + read_length]):\n",
    "            if c1 == c2 == c3:\n",
    "                tn += 1\n",
    "            elif c1 != c2 == c3:\n",
    "                fp += 1\n",
    "            elif c1 == c2 != c3:\n",
    "                fn += 1\n",
    "            elif c1 == c3 != c2:\n",
    "                tp += 1\n",
    "            else:\n",
    "                miscorrection += 1\n",
    "\n",
    "    print(f\"TP: {tp}\")\n",
    "    print(f\"FP: {fp}\")\n",
    "    print(f\"TN: {tn}\")\n",
    "    print(f\"FN: {fn}\")\n",
    "    print(f\"Miscorrections: {miscorrection}\")\n",
    "    print(f\"Precision: {tp / (tp + fp)}\")\n",
    "    print(f\"Recall: {tp / (tp + fn)}\")"
   ]
  },
  {
   "cell_type": "code",
   "execution_count": 14,
   "id": "bb4203b6-0e85-46ba-bcdb-031d7e9ac488",
   "metadata": {},
   "outputs": [
    {
     "name": "stdout",
     "output_type": "stream",
     "text": [
      "k-mer length: 10\n",
      "TP: 453806\n",
      "FP: 54200\n",
      "TN: 11826530\n",
      "FN: 137673\n",
      "Miscorrections: 4011\n",
      "Precision: 0.89330834675181\n",
      "Recall: 0.7672394117119965\n",
      "--------------------\n",
      "k-mer length: 15\n",
      "TP: 528906\n",
      "FP: 33\n",
      "TN: 11880697\n",
      "FN: 66583\n",
      "Miscorrections: 1\n",
      "Precision: 0.999937610953248\n",
      "Recall: 0.8881876911244372\n",
      "--------------------\n",
      "k-mer length: 20\n",
      "TP: 525909\n",
      "FP: 11\n",
      "TN: 11880719\n",
      "FN: 69580\n",
      "Miscorrections: 1\n",
      "Precision: 0.999979084271372\n",
      "Recall: 0.8831548525665461\n",
      "--------------------\n",
      "k-mer length: 25\n",
      "TP: 332164\n",
      "FP: 43\n",
      "TN: 11880687\n",
      "FN: 263324\n",
      "Miscorrections: 2\n",
      "Precision: 0.9998705626311306\n",
      "Recall: 0.5578013326884841\n",
      "--------------------\n",
      "k-mer length: 30\n",
      "TP: 103847\n",
      "FP: 52\n",
      "TN: 11880678\n",
      "FN: 491640\n",
      "Miscorrections: 3\n",
      "Precision: 0.9994995139510486\n",
      "Recall: 0.1743900370621021\n",
      "--------------------\n"
     ]
    }
   ],
   "source": [
    "for k in k_mer_lengths:\n",
    "    reads_cor = {int(rec.id): rec.seq for rec in SeqIO.parse(f\"kmer{k}/reads.cor.fq\", \"fastq\")}\n",
    "    print(f\"k-mer length: {k}\")\n",
    "    calc_metrics(reads_cor, reads, ground_truth)\n",
    "    print('-' * 20)"
   ]
  },
  {
   "cell_type": "code",
   "execution_count": 15,
   "id": "d738c46c-9a16-408c-85d4-d551b36b7387",
   "metadata": {},
   "outputs": [
    {
     "name": "stdout",
     "output_type": "stream",
     "text": [
      "null\n",
      "Started analysis of reads.cor.fq\n",
      "Approx 5% complete for reads.cor.fq\n",
      "Approx 10% complete for reads.cor.fq\n",
      "Approx 15% complete for reads.cor.fq\n",
      "Approx 20% complete for reads.cor.fq\n",
      "Approx 25% complete for reads.cor.fq\n",
      "Approx 30% complete for reads.cor.fq\n",
      "Approx 35% complete for reads.cor.fq\n",
      "Approx 40% complete for reads.cor.fq\n",
      "Approx 45% complete for reads.cor.fq\n",
      "Approx 50% complete for reads.cor.fq\n",
      "Approx 55% complete for reads.cor.fq\n",
      "Approx 60% complete for reads.cor.fq\n",
      "Approx 65% complete for reads.cor.fq\n",
      "Approx 70% complete for reads.cor.fq\n",
      "Approx 75% complete for reads.cor.fq\n",
      "Approx 80% complete for reads.cor.fq\n",
      "Approx 85% complete for reads.cor.fq\n",
      "Approx 90% complete for reads.cor.fq\n",
      "Approx 95% complete for reads.cor.fq\n",
      "Approx 100% complete for reads.cor.fq\n",
      "Analysis complete for reads.cor.fq\n"
     ]
    }
   ],
   "source": [
    "! fastqc kmer20/reads.cor.fq"
   ]
  },
  {
   "cell_type": "markdown",
   "id": "e64a43bc-0dc8-459d-b592-4cec60e3565e",
   "metadata": {},
   "source": [
    "# 4. Сделайте какой-то вывод"
   ]
  },
  {
   "cell_type": "markdown",
   "id": "a9412e99-c718-4f09-9bf0-12ef129e03a3",
   "metadata": {},
   "source": [
    "По результатам мы видим, что редактирование ошибок предпочтительнее, чем удаление ридов с плохим качеством. При оптимальном выборе настроек алгоритма исправления ошибок можно добиться высокой точности и полноты исправления ошибок. Кроме этого, при исправлении ошибок не теряются данные в отличии от trimmomatic"
   ]
  },
  {
   "cell_type": "code",
   "execution_count": null,
   "id": "a1e419e7-c668-4677-bb88-077e664645a2",
   "metadata": {},
   "outputs": [],
   "source": []
  },
  {
   "cell_type": "code",
   "execution_count": null,
   "id": "f451ee34-2432-4f75-887d-153fcd2e52ff",
   "metadata": {},
   "outputs": [],
   "source": []
  }
 ],
 "metadata": {
  "kernelspec": {
   "display_name": "Python 3 (ipykernel)",
   "language": "python",
   "name": "python3"
  },
  "language_info": {
   "codemirror_mode": {
    "name": "ipython",
    "version": 3
   },
   "file_extension": ".py",
   "mimetype": "text/x-python",
   "name": "python",
   "nbconvert_exporter": "python",
   "pygments_lexer": "ipython3",
   "version": "3.12.3"
  }
 },
 "nbformat": 4,
 "nbformat_minor": 5
}
